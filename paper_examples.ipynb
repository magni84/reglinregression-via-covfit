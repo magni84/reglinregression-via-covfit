{
 "cells": [
  {
   "cell_type": "code",
   "execution_count": 1,
   "metadata": {},
   "outputs": [],
   "source": [
    "import cvxpy as cp\n",
    "import numpy as np\n",
    "import scipy as sp\n",
    "from matplotlib import pyplot as plt\n",
    "from numpy.linalg import inv,eig, pinv, norm\n",
    "from IPython.display import clear_output\n",
    "from cvx_code import *"
   ]
  },
  {
   "cell_type": "markdown",
   "metadata": {},
   "source": [
    "# Functions for estimating and saving results\n",
    "\n",
    "* `estimate` takes regressors `Phi`, covariance matrices `C0` and `V0` for data generation. It generates `K` data sets with different $\\theta_o$ and find an estimate. It uses `hyperest` together with each of the tuning parameters in `lam`, and it also use `ourest` for the tuning-free choice. \n",
    "* `run_and_save` just runs `estimate` and saves the results in csv-files."
   ]
  },
  {
   "cell_type": "code",
   "execution_count": 2,
   "metadata": {},
   "outputs": [],
   "source": [
    "def estimate(Phi, C0, V0, ourest, hyperest, lam, K=10):\n",
    "    (n,d) = Phi.shape\n",
    "    sqrtC0 = sp.linalg.sqrtm(C0)\n",
    "    sqrtV0 = sp.linalg.sqrtm(V0)\n",
    "    R = Phi@C0@Phi.T + V0\n",
    "    invR = inv(R)\n",
    "    err_all = np.zeros((K, lam.shape[0]))\n",
    "    err_our = np.zeros((K,))\n",
    "    err_opt = np.zeros((K,))\n",
    "    for i in range(0,K):\n",
    "        theta0 = sqrtC0@np.random.randn(d,1)\n",
    "        y = Phi@theta0 + sqrtV0@np.random.randn(n,1)\n",
    "        theta, C, V, our_lam = ourest(y, Phi)\n",
    "        err_our[i] = norm(theta0.flatten()-theta.flatten())**2\n",
    "        \n",
    "        theta = C0@Phi.T@invR@y\n",
    "        err_opt[i] = norm(theta0.flatten()-theta.flatten())**2\n",
    "        for j in range(0,lam.shape[0]):\n",
    "            theta = hyperest(y, Phi, lam[j])\n",
    "            err = norm(theta0.flatten()-theta)**2\n",
    "            err_all[i, j] = err\n",
    "        clear_output(wait=True)\n",
    "        print(i)\n",
    "        \n",
    "    return err_our, err_opt, err_all, our_lam\n",
    "\n",
    "def run_and_save(name_method, name_case, func, func_hyper, lam, Phi, C0, V0, SNR, dd, K):\n",
    "    n = Phi.shape[0]\n",
    "    err_our, err_opt, err_all, our_lam = estimate(Phi, C0, V0, func, func_hyper, lam, K=K)\n",
    "    file = name_method + str(n) + name_case + str(SNR)\n",
    "    \n",
    "    foo = np.vstack((lam, np.mean(err_all, 0)/dd))\n",
    "    np.savetxt('./images/' + file + '.csv', foo.T, delimiter=\",\")\n",
    "    foo2 = np.vstack((our_lam, np.mean(err_our)/dd))\n",
    "    np.savetxt('./images/' + file + 'o.csv', foo2.T, delimiter=\",\")\n",
    "    "
   ]
  },
  {
   "cell_type": "code",
   "execution_count": 3,
   "metadata": {},
   "outputs": [],
   "source": [
    "K = 10 # Number of MC-iterations"
   ]
  },
  {
   "cell_type": "markdown",
   "metadata": {},
   "source": [
    "`setup_case` creates a regressor matrix `Phi` and the covariance matrices `C0` and `V0` for data generation."
   ]
  },
  {
   "cell_type": "code",
   "execution_count": 4,
   "metadata": {},
   "outputs": [],
   "source": [
    "def setup_case(n=100, SNR=10, d=100, dd=10, outliers=0):\n",
    "    Phi = np.random.randn(n,d)\n",
    "    C0 = np.eye(d)\n",
    "    C0[dd:, dd:] = 0 # Sparse if dd<d\n",
    "    signal = np.trace(Phi@C0@Phi.T)\n",
    "    V0 = np.eye(n)*signal/(n*SNR)\n",
    "    \n",
    "    out = int(n*outliers) # outliers\n",
    "    V0[0:out, 0:out] = 25*V0[0:out,0:out]\n",
    "    return Phi, C0, V0"
   ]
  },
  {
   "cell_type": "markdown",
   "metadata": {},
   "source": [
    "# L2-L2"
   ]
  },
  {
   "cell_type": "code",
   "execution_count": 8,
   "metadata": {},
   "outputs": [
    {
     "name": "stdout",
     "output_type": "stream",
     "text": [
      "49\n"
     ]
    }
   ],
   "source": [
    "nn = [50, 100, 200]\n",
    "SSNR = [1, 10]\n",
    "\n",
    "name_method = \"l2l2\"\n",
    "lam = np.linspace(0, 2)\n",
    "func = l2_l2\n",
    "func_hyper = l2_l2_hyper\n",
    "\n",
    "# Case 1: \n",
    "name_case = \"full\"\n",
    "dd = 100\n",
    "outliers = 0\n",
    "for n in nn:\n",
    "    for SNR in SSNR:\n",
    "        Phi, C0, V0 = setup_case(n=n, dd=dd, SNR=SNR, outliers=outliers)\n",
    "        run_and_save(name_method, name_case, func, func_hyper, lam, Phi, C0, V0, SNR, dd, K)\n",
    "\n",
    "# Case 2:\n",
    "name_case = \"sparse\"\n",
    "dd = 10\n",
    "outliers = 0\n",
    "for n in nn:\n",
    "    for SNR in SSNR:\n",
    "        Phi, C0, V0 = setup_case(n=n, dd=dd, SNR=SNR, outliers=outliers)\n",
    "        run_and_save(name_method, name_case, func, func_hyper, lam, Phi, C0, V0, SNR, dd, K)\n",
    "\n",
    "\n",
    "# Case 3: Sparse outliers\n",
    "name_case = \"sparse_outlier\"\n",
    "dd = 10\n",
    "outliers = 0.2\n",
    "for n in nn:\n",
    "    for SNR in SSNR:\n",
    "        Phi, C0, V0 = setup_case(n=n, dd=dd, SNR=SNR, outliers=outliers)\n",
    "        run_and_save(name_method, name_case, func, func_hyper, lam, Phi, C0, V0, SNR, dd, K)"
   ]
  },
  {
   "cell_type": "markdown",
   "metadata": {},
   "source": [
    "# L1-L2"
   ]
  },
  {
   "cell_type": "code",
   "execution_count": 7,
   "metadata": {},
   "outputs": [
    {
     "name": "stdout",
     "output_type": "stream",
     "text": [
      "49\n"
     ]
    }
   ],
   "source": [
    "nn = [50, 100, 200]\n",
    "SSNR = [1, 10]\n",
    "\n",
    "name_method = \"l1l2\"\n",
    "lam = np.linspace(0, 2)\n",
    "func = l1_l2\n",
    "func_hyper = l1_l2_hyper\n",
    "\n",
    "# Case 1: \n",
    "name_case = \"full\"\n",
    "dd = 100\n",
    "outliers = 0\n",
    "for n in nn:\n",
    "    for SNR in SSNR:\n",
    "        Phi, C0, V0 = setup_case(n=n, dd=dd, SNR=SNR, outliers=outliers)\n",
    "        run_and_save(name_method, name_case, func, func_hyper, lam, Phi, C0, V0, SNR, dd, K)\n",
    "\n",
    "# Case 2:\n",
    "name_case = \"sparse\"\n",
    "dd = 10\n",
    "outliers = 0\n",
    "for n in nn:\n",
    "    for SNR in SSNR:\n",
    "        Phi, C0, V0 = setup_case(n=n, dd=dd, SNR=SNR, outliers=outliers)\n",
    "        run_and_save(name_method, name_case, func, func_hyper, lam, Phi, C0, V0, SNR, dd, K)\n",
    "\n",
    "\n",
    "# Case 3: Sparse outliers\n",
    "name_case = \"sparse_outlier\"\n",
    "dd = 10\n",
    "outliers = 0.2\n",
    "for n in nn:\n",
    "    for SNR in SSNR:\n",
    "        Phi, C0, V0 = setup_case(n=n, dd=dd, SNR=SNR, outliers=outliers)\n",
    "        run_and_save(name_method, name_case, func, func_hyper, lam, Phi, C0, V0, SNR, dd, K)"
   ]
  },
  {
   "cell_type": "markdown",
   "metadata": {},
   "source": [
    "# L2-WL1"
   ]
  },
  {
   "cell_type": "code",
   "execution_count": 6,
   "metadata": {},
   "outputs": [
    {
     "name": "stdout",
     "output_type": "stream",
     "text": [
      "999\n"
     ]
    }
   ],
   "source": [
    "\n",
    "nn = [50, 100, 200]\n",
    "SSNR = [1, 10]\n",
    "nn = [200]\n",
    "SSNR = [10]\n",
    "\n",
    "name_method = \"l2l1\"\n",
    "lam = np.linspace(0, 0.8)\n",
    "func = l2_l1\n",
    "func_hyper = l2_l1_hyper\n",
    "\n",
    "# Case 1: \n",
    "name_case = \"full\"\n",
    "dd = 100\n",
    "outliers = 0\n",
    "for n in nn:\n",
    "    for SNR in SSNR:\n",
    "        Phi, C0, V0 = setup_case(n=n, dd=dd, SNR=SNR, outliers=outliers)\n",
    "        run_and_save(name_method, name_case, func, func_hyper, lam, Phi, C0, V0, SNR, dd, K)\n",
    "\n",
    "# Case 2:\n",
    "name_case = \"sparse\"\n",
    "dd = 10\n",
    "outliers = 0\n",
    "for n in nn:\n",
    "    for SNR in SSNR:\n",
    "        Phi, C0, V0 = setup_case(n=n, dd=dd, SNR=SNR, outliers=outliers)\n",
    "        run_and_save(name_method, name_case, func, func_hyper, lam, Phi, C0, V0, SNR, dd, K)\n",
    "\n",
    "\n",
    "# Case 3: Sparse outliers\n",
    "name_case = \"sparse_outlier\"\n",
    "dd = 10\n",
    "outliers = 0.2\n",
    "for n in nn:\n",
    "    for SNR in SSNR:\n",
    "        Phi, C0, V0 = setup_case(n=n, dd=dd, SNR=SNR, outliers=outliers)\n",
    "        run_and_save(name_method, name_case, func, func_hyper, lam, Phi, C0, V0, SNR, dd, K)"
   ]
  },
  {
   "cell_type": "markdown",
   "metadata": {},
   "source": [
    "# L1-WL1"
   ]
  },
  {
   "cell_type": "code",
   "execution_count": 6,
   "metadata": {},
   "outputs": [
    {
     "name": "stdout",
     "output_type": "stream",
     "text": [
      "49\n"
     ]
    }
   ],
   "source": [
    "nn = [50, 100, 200]\n",
    "SSNR = [1, 10]\n",
    "\n",
    "name_method = \"l1l1\"\n",
    "lam = np.linspace(0, 0.8)\n",
    "func = l1_l1\n",
    "func_hyper = l1_l1_hyper\n",
    "\n",
    "# Case 1: \n",
    "name_case = \"full\"\n",
    "dd = 100\n",
    "outliers = 0\n",
    "for n in nn:\n",
    "    for SNR in SSNR:\n",
    "        Phi, C0, V0 = setup_case(n=n, dd=dd, SNR=SNR, outliers=outliers)\n",
    "        run_and_save(name_method, name_case, func, func_hyper, lam, Phi, C0, V0, SNR, dd, K)\n",
    "\n",
    "# Case 2:\n",
    "name_case = \"sparse\"\n",
    "dd = 10\n",
    "outliers = 0\n",
    "for n in nn:\n",
    "    for SNR in SSNR:\n",
    "        Phi, C0, V0 = setup_case(n=n, dd=dd, SNR=SNR, outliers=outliers)\n",
    "        run_and_save(name_method, name_case, func, func_hyper, lam, Phi, C0, V0, SNR, dd, K)\n",
    "\n",
    "\n",
    "# Case 3: Sparse outliers\n",
    "name_case = \"sparse_outlier\"\n",
    "dd = 10\n",
    "outliers = 0.2\n",
    "for n in nn:\n",
    "    for SNR in SSNR:\n",
    "        Phi, C0, V0 = setup_case(n=n, dd=dd, SNR=SNR, outliers=outliers)\n",
    "        run_and_save(name_method, name_case, func, func_hyper, lam, Phi, C0, V0, SNR, dd, K)"
   ]
  }
 ],
 "metadata": {
  "kernelspec": {
   "display_name": "Python [conda env:all]",
   "language": "python",
   "name": "conda-env-all-py"
  },
  "language_info": {
   "codemirror_mode": {
    "name": "ipython",
    "version": 3
   },
   "file_extension": ".py",
   "mimetype": "text/x-python",
   "name": "python",
   "nbconvert_exporter": "python",
   "pygments_lexer": "ipython3",
   "version": "3.7.9"
  }
 },
 "nbformat": 4,
 "nbformat_minor": 4
}
